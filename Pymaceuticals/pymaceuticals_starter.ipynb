{
 "cells": [
  {
   "cell_type": "markdown",
   "metadata": {},
   "source": [
    "# Pymaceuticals Inc.\n",
    "---\n",
    "\n",
    "### Analysis\n",
    "\n",
    "- Add your analysis here.\n",
    " "
   ]
  },
  {
   "cell_type": "code",
   "execution_count": 1,
   "metadata": {},
   "outputs": [
    {
     "data": {
      "text/html": [
       "<div>\n",
       "<style scoped>\n",
       "    .dataframe tbody tr th:only-of-type {\n",
       "        vertical-align: middle;\n",
       "    }\n",
       "\n",
       "    .dataframe tbody tr th {\n",
       "        vertical-align: top;\n",
       "    }\n",
       "\n",
       "    .dataframe thead th {\n",
       "        text-align: right;\n",
       "    }\n",
       "</style>\n",
       "<table border=\"1\" class=\"dataframe\">\n",
       "  <thead>\n",
       "    <tr style=\"text-align: right;\">\n",
       "      <th></th>\n",
       "      <th>Mouse ID</th>\n",
       "      <th>Drug Regimen</th>\n",
       "      <th>Sex</th>\n",
       "      <th>Age_months</th>\n",
       "      <th>Weight (g)</th>\n",
       "      <th>Timepoint</th>\n",
       "      <th>Tumor Volume (mm3)</th>\n",
       "      <th>Metastatic Sites</th>\n",
       "    </tr>\n",
       "  </thead>\n",
       "  <tbody>\n",
       "    <tr>\n",
       "      <th>0</th>\n",
       "      <td>b128</td>\n",
       "      <td>Capomulin</td>\n",
       "      <td>Female</td>\n",
       "      <td>9</td>\n",
       "      <td>22</td>\n",
       "      <td>0</td>\n",
       "      <td>45.0</td>\n",
       "      <td>0</td>\n",
       "    </tr>\n",
       "    <tr>\n",
       "      <th>1</th>\n",
       "      <td>f932</td>\n",
       "      <td>Ketapril</td>\n",
       "      <td>Male</td>\n",
       "      <td>15</td>\n",
       "      <td>29</td>\n",
       "      <td>0</td>\n",
       "      <td>45.0</td>\n",
       "      <td>0</td>\n",
       "    </tr>\n",
       "    <tr>\n",
       "      <th>2</th>\n",
       "      <td>g107</td>\n",
       "      <td>Ketapril</td>\n",
       "      <td>Female</td>\n",
       "      <td>2</td>\n",
       "      <td>29</td>\n",
       "      <td>0</td>\n",
       "      <td>45.0</td>\n",
       "      <td>0</td>\n",
       "    </tr>\n",
       "    <tr>\n",
       "      <th>3</th>\n",
       "      <td>a457</td>\n",
       "      <td>Ketapril</td>\n",
       "      <td>Female</td>\n",
       "      <td>11</td>\n",
       "      <td>30</td>\n",
       "      <td>0</td>\n",
       "      <td>45.0</td>\n",
       "      <td>0</td>\n",
       "    </tr>\n",
       "    <tr>\n",
       "      <th>4</th>\n",
       "      <td>c819</td>\n",
       "      <td>Ketapril</td>\n",
       "      <td>Male</td>\n",
       "      <td>21</td>\n",
       "      <td>25</td>\n",
       "      <td>0</td>\n",
       "      <td>45.0</td>\n",
       "      <td>0</td>\n",
       "    </tr>\n",
       "  </tbody>\n",
       "</table>\n",
       "</div>"
      ],
      "text/plain": [
       "  Mouse ID Drug Regimen     Sex  Age_months  Weight (g)  Timepoint  \\\n",
       "0     b128    Capomulin  Female           9          22          0   \n",
       "1     f932     Ketapril    Male          15          29          0   \n",
       "2     g107     Ketapril  Female           2          29          0   \n",
       "3     a457     Ketapril  Female          11          30          0   \n",
       "4     c819     Ketapril    Male          21          25          0   \n",
       "\n",
       "   Tumor Volume (mm3)  Metastatic Sites  \n",
       "0                45.0                 0  \n",
       "1                45.0                 0  \n",
       "2                45.0                 0  \n",
       "3                45.0                 0  \n",
       "4                45.0                 0  "
      ]
     },
     "execution_count": 1,
     "metadata": {},
     "output_type": "execute_result"
    }
   ],
   "source": [
    "# Dependencies and Setup\n",
    "import matplotlib.pyplot as plt\n",
    "import pandas as pd\n",
    "import scipy.stats as st\n",
    "import numpy as np\n",
    "\n",
    "# Study data files\n",
    "mouse_metadata_path = \"/Users/sehaj/Desktop/Starter_Code 4/Pymaceuticals/data/Mouse_metadata.csv\"\n",
    "study_results_path = \"/Users/sehaj/Desktop/Starter_Code 4/Pymaceuticals/data/Study_results.csv\"\n",
    "\n",
    "# Read the mouse data and the study results\n",
    "mouse_metadata = pd.read_csv(mouse_metadata_path)\n",
    "study_results = pd.read_csv(study_results_path)\n",
    "\n",
    "# Combine the data into a single DataFrame\n",
    "Combined_data = pd.merge(mouse_metadata, study_results, how=\"right\")\n",
    "\n",
    "# Display the data table for preview\n",
    "Combined_data.head()"
   ]
  },
  {
   "cell_type": "code",
   "execution_count": 2,
   "metadata": {},
   "outputs": [
    {
     "data": {
      "text/plain": [
       "249"
      ]
     },
     "execution_count": 2,
     "metadata": {},
     "output_type": "execute_result"
    }
   ],
   "source": [
    "# Checking the number of mice.\n",
    "mice_count = len(Combined_data[\"Mouse ID\"].unique())\n",
    "mice_count"
   ]
  },
  {
   "cell_type": "code",
   "execution_count": 3,
   "metadata": {},
   "outputs": [
    {
     "data": {
      "text/plain": [
       "'g989'"
      ]
     },
     "execution_count": 3,
     "metadata": {},
     "output_type": "execute_result"
    }
   ],
   "source": [
    "# Our data should be uniquely identified by Mouse ID and Timepoint\n",
    "# Get the duplicate mice by ID number\n",
    "duplicates = Combined_data[Combined_data.duplicated([\"Mouse ID\", \"Timepoint\"], keep=False)]\n",
    "\n",
    "#find the specific ID number for the duplicated data\n",
    "duplicate_mice_ID = duplicates.iloc[0,0]\n",
    "duplicate_mice_ID"
   ]
  },
  {
   "cell_type": "code",
   "execution_count": 4,
   "metadata": {},
   "outputs": [],
   "source": [
    "# Optional: Get all the data for the duplicate mouse ID. \n"
   ]
  },
  {
   "cell_type": "code",
   "execution_count": 5,
   "metadata": {},
   "outputs": [
    {
     "data": {
      "text/html": [
       "<div>\n",
       "<style scoped>\n",
       "    .dataframe tbody tr th:only-of-type {\n",
       "        vertical-align: middle;\n",
       "    }\n",
       "\n",
       "    .dataframe tbody tr th {\n",
       "        vertical-align: top;\n",
       "    }\n",
       "\n",
       "    .dataframe thead th {\n",
       "        text-align: right;\n",
       "    }\n",
       "</style>\n",
       "<table border=\"1\" class=\"dataframe\">\n",
       "  <thead>\n",
       "    <tr style=\"text-align: right;\">\n",
       "      <th></th>\n",
       "      <th>Mouse ID</th>\n",
       "      <th>Drug Regimen</th>\n",
       "      <th>Sex</th>\n",
       "      <th>Age_months</th>\n",
       "      <th>Weight (g)</th>\n",
       "      <th>Timepoint</th>\n",
       "      <th>Tumor Volume (mm3)</th>\n",
       "      <th>Metastatic Sites</th>\n",
       "    </tr>\n",
       "  </thead>\n",
       "  <tbody>\n",
       "    <tr>\n",
       "      <th>0</th>\n",
       "      <td>b128</td>\n",
       "      <td>Capomulin</td>\n",
       "      <td>Female</td>\n",
       "      <td>9</td>\n",
       "      <td>22</td>\n",
       "      <td>0</td>\n",
       "      <td>45.0</td>\n",
       "      <td>0</td>\n",
       "    </tr>\n",
       "    <tr>\n",
       "      <th>1</th>\n",
       "      <td>f932</td>\n",
       "      <td>Ketapril</td>\n",
       "      <td>Male</td>\n",
       "      <td>15</td>\n",
       "      <td>29</td>\n",
       "      <td>0</td>\n",
       "      <td>45.0</td>\n",
       "      <td>0</td>\n",
       "    </tr>\n",
       "    <tr>\n",
       "      <th>2</th>\n",
       "      <td>g107</td>\n",
       "      <td>Ketapril</td>\n",
       "      <td>Female</td>\n",
       "      <td>2</td>\n",
       "      <td>29</td>\n",
       "      <td>0</td>\n",
       "      <td>45.0</td>\n",
       "      <td>0</td>\n",
       "    </tr>\n",
       "    <tr>\n",
       "      <th>3</th>\n",
       "      <td>a457</td>\n",
       "      <td>Ketapril</td>\n",
       "      <td>Female</td>\n",
       "      <td>11</td>\n",
       "      <td>30</td>\n",
       "      <td>0</td>\n",
       "      <td>45.0</td>\n",
       "      <td>0</td>\n",
       "    </tr>\n",
       "    <tr>\n",
       "      <th>4</th>\n",
       "      <td>c819</td>\n",
       "      <td>Ketapril</td>\n",
       "      <td>Male</td>\n",
       "      <td>21</td>\n",
       "      <td>25</td>\n",
       "      <td>0</td>\n",
       "      <td>45.0</td>\n",
       "      <td>0</td>\n",
       "    </tr>\n",
       "  </tbody>\n",
       "</table>\n",
       "</div>"
      ],
      "text/plain": [
       "  Mouse ID Drug Regimen     Sex  Age_months  Weight (g)  Timepoint  \\\n",
       "0     b128    Capomulin  Female           9          22          0   \n",
       "1     f932     Ketapril    Male          15          29          0   \n",
       "2     g107     Ketapril  Female           2          29          0   \n",
       "3     a457     Ketapril  Female          11          30          0   \n",
       "4     c819     Ketapril    Male          21          25          0   \n",
       "\n",
       "   Tumor Volume (mm3)  Metastatic Sites  \n",
       "0                45.0                 0  \n",
       "1                45.0                 0  \n",
       "2                45.0                 0  \n",
       "3                45.0                 0  \n",
       "4                45.0                 0  "
      ]
     },
     "execution_count": 5,
     "metadata": {},
     "output_type": "execute_result"
    }
   ],
   "source": [
    "# Create a clean DataFrame by dropping the duplicate mouse by its ID.\n",
    "clean_data_complete = Combined_data[Combined_data['Mouse ID'] != duplicate_mice_ID]\n",
    "\n",
    "Combined_data.head()"
   ]
  },
  {
   "cell_type": "code",
   "execution_count": 6,
   "metadata": {},
   "outputs": [
    {
     "data": {
      "text/plain": [
       "248"
      ]
     },
     "execution_count": 6,
     "metadata": {},
     "output_type": "execute_result"
    }
   ],
   "source": [
    "# Checking the number of mice in the clean DataFrame.\n",
    "mice_count_clean = len(clean_data_complete[\"Mouse ID\"].unique())\n",
    "mice_count_clean"
   ]
  },
  {
   "cell_type": "markdown",
   "metadata": {},
   "source": [
    "## Summary Statistics"
   ]
  },
  {
   "cell_type": "code",
   "execution_count": 7,
   "metadata": {},
   "outputs": [
    {
     "data": {
      "text/html": [
       "<div>\n",
       "<style scoped>\n",
       "    .dataframe tbody tr th:only-of-type {\n",
       "        vertical-align: middle;\n",
       "    }\n",
       "\n",
       "    .dataframe tbody tr th {\n",
       "        vertical-align: top;\n",
       "    }\n",
       "\n",
       "    .dataframe thead th {\n",
       "        text-align: right;\n",
       "    }\n",
       "</style>\n",
       "<table border=\"1\" class=\"dataframe\">\n",
       "  <thead>\n",
       "    <tr style=\"text-align: right;\">\n",
       "      <th></th>\n",
       "      <th>Mean</th>\n",
       "      <th>Median</th>\n",
       "      <th>Variance</th>\n",
       "      <th>Standard Deviation</th>\n",
       "      <th>SEM</th>\n",
       "    </tr>\n",
       "    <tr>\n",
       "      <th>Drug Regimen</th>\n",
       "      <th></th>\n",
       "      <th></th>\n",
       "      <th></th>\n",
       "      <th></th>\n",
       "      <th></th>\n",
       "    </tr>\n",
       "  </thead>\n",
       "  <tbody>\n",
       "    <tr>\n",
       "      <th>Capomulin</th>\n",
       "      <td>40.68</td>\n",
       "      <td>41.56</td>\n",
       "      <td>24.95</td>\n",
       "      <td>4.99</td>\n",
       "      <td>0.33</td>\n",
       "    </tr>\n",
       "    <tr>\n",
       "      <th>Ceftamin</th>\n",
       "      <td>52.59</td>\n",
       "      <td>51.78</td>\n",
       "      <td>39.29</td>\n",
       "      <td>6.27</td>\n",
       "      <td>0.47</td>\n",
       "    </tr>\n",
       "    <tr>\n",
       "      <th>Infubinol</th>\n",
       "      <td>52.88</td>\n",
       "      <td>51.82</td>\n",
       "      <td>43.13</td>\n",
       "      <td>6.57</td>\n",
       "      <td>0.49</td>\n",
       "    </tr>\n",
       "    <tr>\n",
       "      <th>Ketapril</th>\n",
       "      <td>55.24</td>\n",
       "      <td>53.70</td>\n",
       "      <td>68.55</td>\n",
       "      <td>8.28</td>\n",
       "      <td>0.60</td>\n",
       "    </tr>\n",
       "    <tr>\n",
       "      <th>Naftisol</th>\n",
       "      <td>54.33</td>\n",
       "      <td>52.51</td>\n",
       "      <td>66.17</td>\n",
       "      <td>8.13</td>\n",
       "      <td>0.60</td>\n",
       "    </tr>\n",
       "    <tr>\n",
       "      <th>Placebo</th>\n",
       "      <td>54.03</td>\n",
       "      <td>52.29</td>\n",
       "      <td>61.17</td>\n",
       "      <td>7.82</td>\n",
       "      <td>0.58</td>\n",
       "    </tr>\n",
       "    <tr>\n",
       "      <th>Propriva</th>\n",
       "      <td>52.32</td>\n",
       "      <td>50.45</td>\n",
       "      <td>43.85</td>\n",
       "      <td>6.62</td>\n",
       "      <td>0.54</td>\n",
       "    </tr>\n",
       "    <tr>\n",
       "      <th>Ramicane</th>\n",
       "      <td>40.22</td>\n",
       "      <td>40.67</td>\n",
       "      <td>23.49</td>\n",
       "      <td>4.85</td>\n",
       "      <td>0.32</td>\n",
       "    </tr>\n",
       "    <tr>\n",
       "      <th>Stelasyn</th>\n",
       "      <td>54.23</td>\n",
       "      <td>52.43</td>\n",
       "      <td>59.45</td>\n",
       "      <td>7.71</td>\n",
       "      <td>0.57</td>\n",
       "    </tr>\n",
       "    <tr>\n",
       "      <th>Zoniferol</th>\n",
       "      <td>53.24</td>\n",
       "      <td>51.82</td>\n",
       "      <td>48.53</td>\n",
       "      <td>6.97</td>\n",
       "      <td>0.52</td>\n",
       "    </tr>\n",
       "  </tbody>\n",
       "</table>\n",
       "</div>"
      ],
      "text/plain": [
       "               Mean Median Variance Standard Deviation   SEM\n",
       "Drug Regimen                                                \n",
       "Capomulin     40.68  41.56    24.95               4.99  0.33\n",
       "Ceftamin      52.59  51.78    39.29               6.27  0.47\n",
       "Infubinol     52.88  51.82    43.13               6.57  0.49\n",
       "Ketapril      55.24  53.70    68.55               8.28  0.60\n",
       "Naftisol      54.33  52.51    66.17               8.13  0.60\n",
       "Placebo       54.03  52.29    61.17               7.82  0.58\n",
       "Propriva      52.32  50.45    43.85               6.62  0.54\n",
       "Ramicane      40.22  40.67    23.49               4.85  0.32\n",
       "Stelasyn      54.23  52.43    59.45               7.71  0.57\n",
       "Zoniferol     53.24  51.82    48.53               6.97  0.52"
      ]
     },
     "execution_count": 7,
     "metadata": {},
     "output_type": "execute_result"
    }
   ],
   "source": [
    "# Generate a summary statistics table of mean, median, variance, standard deviation, and SEM of the tumor volume for each regimen\n",
    "\n",
    "# Use groupby and summary statistical methods to calculate the following properties of each drug regimen: \n",
    "# mean, median, variance, standard deviation, and SEM of the tumor volume. \n",
    "# Assemble the resulting series into a single summary DataFrame.\n",
    "\n",
    "mean = clean_data_complete.groupby(\"Drug Regimen\")[\"Tumor Volume (mm3)\"].mean().map('{:.2f}'.format)\n",
    "median = clean_data_complete.groupby(\"Drug Regimen\")[\"Tumor Volume (mm3)\"].median().map('{:.2f}'.format)\n",
    "var = clean_data_complete.groupby(\"Drug Regimen\")[\"Tumor Volume (mm3)\"].var().map('{:.2f}'.format)\n",
    "stddev = clean_data_complete.groupby(\"Drug Regimen\")[\"Tumor Volume (mm3)\"].std().map('{:.2f}'.format)\n",
    "sem = clean_data_complete.groupby(\"Drug Regimen\")[\"Tumor Volume (mm3)\"].sem().map('{:.2f}'.format)\n",
    "\n",
    "# Assemble the resulting series into a single summary dataframe.\n",
    "summary_df = pd.DataFrame({\"Mean\": mean, \"Median\": median, \"Variance\": var, \"Standard Deviation\": stddev, \"SEM\": sem})\n",
    "summary_df"
   ]
  },
  {
   "cell_type": "code",
   "execution_count": 8,
   "metadata": {},
   "outputs": [],
   "source": [
    "# A more advanced method to generate a summary statistics table of mean, median, variance, standard deviation,\n",
    "# and SEM of the tumor volume for each regimen (only one method is required in the solution)\n",
    "\n",
    "# Using the aggregation method, produce the same summary statistics in a single line\n"
   ]
  },
  {
   "cell_type": "code",
   "execution_count": null,
   "metadata": {},
   "outputs": [],
   "source": []
  },
  {
   "cell_type": "markdown",
   "metadata": {},
   "source": [
    "## Bar and Pie Charts"
   ]
  },
  {
   "cell_type": "code",
   "execution_count": 9,
   "metadata": {},
   "outputs": [
    {
     "data": {
      "image/png": "[encoded data removed]",
      "text/plain": [
       "<Figure size 504x288 with 1 Axes>"
      ]
     },
     "metadata": {
      "needs_background": "light"
     },
     "output_type": "display_data"
    }
   ],
   "source": [
    "# Generate a bar plot showing the total number of measurements taken on each drug regimen using pandas.\n",
    "grouped_drug = clean_data_complete.groupby(\"Drug Regimen\")\n",
    "drug_count = pd.DataFrame(grouped_drug[\"Drug Regimen\"].count())\n",
    "drug_bar = drug_count.plot(kind='bar', figsize=(7,4))\n",
    "plt.title(\"Total # of Measurements for Each Drug Regimen\")\n",
    "plt.xlabel(\"Drug Regimen\")\n",
    "plt.ylabel(\"# of Measurements\")\n",
    "plt.tight_layout()\n",
    "plt.show()"
   ]
  },
  {
   "cell_type": "code",
   "execution_count": 10,
   "metadata": {},
   "outputs": [
    {
     "data": {
      "image/png": "[encoded data removed]",
      "text/plain": [
       "<Figure size 432x288 with 1 Axes>"
      ]
     },
     "metadata": {
      "needs_background": "light"
     },
     "output_type": "display_data"
    }
   ],
   "source": [
    "# Generate a bar plot showing the total number of rows (Mouse ID/Timepoints) for each drug regimen using pyplot.\n",
    "\n",
    "drug_type = clean_data_complete.groupby(\"Drug Regimen\")\n",
    "\n",
    "#count how many observed timepoints per drug\n",
    "count_drug_type = drug_type[\"Drug Regimen\"].count()\n",
    "\n",
    "#convert series to dataframe \n",
    "plot_df = count_drug_type.to_frame()\n",
    "\n",
    "# use index values as the x-axis\n",
    "drug_list = list(plot_df.index.values)\n",
    "\n",
    "# use dataframe to extract mouse timepoints\n",
    "counts_mices = plot_df.iloc[:,0]\n",
    "\n",
    "#plot\n",
    "plt.bar(drug_list,counts_mices, width = 0.5)\n",
    "plt.xlabel(\"Drug Regimen\")\n",
    "plt.ylabel(\"# of Observed Mouse Timepoints\")\n",
    "plt.xticks(rotation='vertical')\n",
    "plt.show()"
   ]
  },
  {
   "cell_type": "code",
   "execution_count": null,
   "metadata": {},
   "outputs": [],
   "source": []
  },
  {
   "cell_type": "code",
   "execution_count": null,
   "metadata": {},
   "outputs": [],
   "source": []
  },
  {
   "cell_type": "code",
   "execution_count": 11,
   "metadata": {},
   "outputs": [
    {
     "data": {
      "image/png": "[encoded data removed]",
      "text/plain": [
       "<Figure size 504x288 with 1 Axes>"
      ]
     },
     "metadata": {},
     "output_type": "display_data"
    }
   ],
   "source": [
    "# Generate a pie plot showing the distribution of female versus male mice using pandas\n",
    "sex_type = clean_data_complete.groupby('Sex')\n",
    "# gender_count = pd.DataFrame(gender_group['Mouse ID'].nunique())\n",
    "gender_count = pd.DataFrame(sex_type['Sex'].count())\n",
    "# gender_count.head()\n",
    "\n",
    "gender_count.plot(kind='pie', figsize=(7,4), y='Sex', title=\"Distribution of Female versus Male Mice\", \n",
    "                startangle=160, autopct='%1.1f%%', shadow=True, legend=False)\n",
    "\n",
    "plt.axis('equal')\n",
    "plt.show()"
   ]
  },
  {
   "cell_type": "code",
   "execution_count": 12,
   "metadata": {},
   "outputs": [
    {
     "data": {
      "image/png": "[encoded data removed]",
      "text/plain": [
       "<Figure size 432x288 with 1 Axes>"
      ]
     },
     "metadata": {},
     "output_type": "display_data"
    }
   ],
   "source": [
    "# Generate a pie plot showing the distribution of female versus male mice using pyplot\n",
    "sex_type = clean_data_complete.groupby(\"Sex\")\n",
    "\n",
    "#count how many observed mice timepoints per sex\n",
    "count_sex_type = sex_type[\"Sex\"].count()\n",
    "\n",
    "#convert series to dataframe \n",
    "pyplot_df = count_sex_type.to_frame()\n",
    "\n",
    "# use index values as the labels\n",
    "sex_list = list(pyplot_df.index.values)\n",
    "counts_sex = pyplot_df.iloc[:,0]\n",
    "\n",
    "#plot\n",
    "plt.pie(counts_sex, labels=sex_list, autopct=\"%1.1f%%\")\n",
    "plt.ylabel(\"Sex\")\n",
    "plt.show()\n"
   ]
  },
  {
   "cell_type": "markdown",
   "metadata": {},
   "source": [
    "## Quartiles, Outliers and Boxplots"
   ]
  },
  {
   "cell_type": "code",
   "execution_count": 13,
   "metadata": {},
   "outputs": [
    {
     "data": {
      "text/html": [
       "<div>\n",
       "<style scoped>\n",
       "    .dataframe tbody tr th:only-of-type {\n",
       "        vertical-align: middle;\n",
       "    }\n",
       "\n",
       "    .dataframe tbody tr th {\n",
       "        vertical-align: top;\n",
       "    }\n",
       "\n",
       "    .dataframe thead th {\n",
       "        text-align: right;\n",
       "    }\n",
       "</style>\n",
       "<table border=\"1\" class=\"dataframe\">\n",
       "  <thead>\n",
       "    <tr style=\"text-align: right;\">\n",
       "      <th></th>\n",
       "      <th>Mouse ID</th>\n",
       "      <th>Drug Regimen</th>\n",
       "      <th>Timepoint</th>\n",
       "      <th>Tumor Volume (mm3)</th>\n",
       "    </tr>\n",
       "  </thead>\n",
       "  <tbody>\n",
       "    <tr>\n",
       "      <th>1804</th>\n",
       "      <td>a203</td>\n",
       "      <td>Infubinol</td>\n",
       "      <td>45</td>\n",
       "      <td>67.973419</td>\n",
       "    </tr>\n",
       "    <tr>\n",
       "      <th>1786</th>\n",
       "      <td>a251</td>\n",
       "      <td>Infubinol</td>\n",
       "      <td>45</td>\n",
       "      <td>65.525743</td>\n",
       "    </tr>\n",
       "    <tr>\n",
       "      <th>1783</th>\n",
       "      <td>a262</td>\n",
       "      <td>Placebo</td>\n",
       "      <td>45</td>\n",
       "      <td>70.717621</td>\n",
       "    </tr>\n",
       "    <tr>\n",
       "      <th>1856</th>\n",
       "      <td>a275</td>\n",
       "      <td>Ceftamin</td>\n",
       "      <td>45</td>\n",
       "      <td>62.999356</td>\n",
       "    </tr>\n",
       "    <tr>\n",
       "      <th>1401</th>\n",
       "      <td>a366</td>\n",
       "      <td>Stelasyn</td>\n",
       "      <td>30</td>\n",
       "      <td>63.440686</td>\n",
       "    </tr>\n",
       "  </tbody>\n",
       "</table>\n",
       "</div>"
      ],
      "text/plain": [
       "     Mouse ID Drug Regimen  Timepoint  Tumor Volume (mm3)\n",
       "1804     a203    Infubinol         45           67.973419\n",
       "1786     a251    Infubinol         45           65.525743\n",
       "1783     a262      Placebo         45           70.717621\n",
       "1856     a275     Ceftamin         45           62.999356\n",
       "1401     a366     Stelasyn         30           63.440686"
      ]
     },
     "execution_count": 13,
     "metadata": {},
     "output_type": "execute_result"
    }
   ],
   "source": [
    "# Calculate the final tumor volume of each mouse across four of the treatment regimens:  \n",
    "# Capomulin, Ramicane, Infubinol, and Ceftamin\n",
    "\n",
    "# Start by getting the last (greatest) timepoint for each mouse\n",
    "greatest_timepoint = clean_data_complete.loc[clean_data_complete.groupby('Mouse ID')['Timepoint'].idxmax()]\n",
    "\n",
    "# Drop unnecessary columns. This dataframe contains the data for the max timepoint for each mouse ID and the corresponding Drug and Tumor Volume data.\n",
    "greatest_timepoint = greatest_timepoint.drop(columns=['Metastatic Sites', 'Sex', 'Age_months', 'Weight (g)'])\n",
    "greatest_timepoint.head()"
   ]
  },
  {
   "cell_type": "code",
   "execution_count": 14,
   "metadata": {},
   "outputs": [],
   "source": [
    "treatments =['Capomulin', 'Ramicane', 'Infubinol', 'Ceftamin']\n",
    "\n",
    "# Create empty list to fill with tumor vol data (for plotting)\n",
    "capomulin_vol =[]\n",
    "ramicane_vol =[]\n",
    "infubinol_vol=[]\n",
    "ceftamin_vol=[]\n",
    "\n",
    "#loop through our dataframe and extract the tumor volumes and append them to the correct corresponding list\n",
    "for ind in greatest_timepoint.index:\n",
    "    if greatest_timepoint['Drug Regimen'][ind] == 'Capomulin':\n",
    "        capomulin_vol.append(greatest_timepoint['Tumor Volume (mm3)'][ind])\n",
    "    elif greatest_timepoint['Drug Regimen'][ind] == 'Ramicane':\n",
    "        ramicane_vol.append(greatest_timepoint['Tumor Volume (mm3)'][ind])\n",
    "    elif greatest_timepoint['Drug Regimen'][ind] == 'Infubinol':\n",
    "        infubinol_vol.append(greatest_timepoint['Tumor Volume (mm3)'][ind])\n",
    "    elif greatest_timepoint['Drug Regimen'][ind] == 'Ceftamin':\n",
    "        ceftamin_vol.append(greatest_timepoint['Tumor Volume (mm3)'][ind])"
   ]
  },
  {
   "cell_type": "code",
   "execution_count": 15,
   "metadata": {},
   "outputs": [],
   "source": [
    "# create a function that takes the tumor volume and treatment lists and outputs the IQR and whether or not the data has an outlier\n",
    "def outlier(tumor, medicine):\n",
    "    iqr = st.iqr(tumor)\n",
    "    print(\"The IQR for \" + str(medicine) + \" is \" + str(iqr))\n",
    "    lower_bound = np.percentile(tumor, [25]) - 1.5*iqr\n",
    "    upper_bound = np.percentile(tumor, [75]) + 1.5*iqr\n",
    "    outlier = False\n",
    "    for x in tumor:\n",
    "        if x > upper_bound or x < lower_bound:\n",
    "            print(\"The outlier for \" + str(medicine) + \" is \" + str(x))\n",
    "            outlier = True\n",
    "    if outlier == False:\n",
    "        print(str(medicine) + \" does not have an outlier\")\n"
   ]
  },
  {
   "cell_type": "code",
   "execution_count": 16,
   "metadata": {},
   "outputs": [
    {
     "name": "stdout",
     "output_type": "stream",
     "text": [
      "The IQR for Capomulin is 7.781863460000004\n",
      "Capomulin does not have an outlier\n",
      "The IQR for Ramicane is 9.098536719999998\n",
      "Ramicane does not have an outlier\n",
      "The IQR for Infubinol is 11.477135160000003\n",
      "The outlier for Infubinol is 36.3213458\n",
      "The IQR for Ceftamin is 15.577752179999997\n",
      "Ceftamin does not have an outlier\n"
     ]
    }
   ],
   "source": [
    "# run the outlier function\n",
    "outlier(capomulin_vol, treatments[0])\n",
    "outlier(ramicane_vol, treatments[1])\n",
    "outlier(infubinol_vol, treatments[2])\n",
    "outlier(ceftamin_vol, treatments[3])"
   ]
  },
  {
   "cell_type": "code",
   "execution_count": 17,
   "metadata": {},
   "outputs": [
    {
     "data": {
      "image/png": "[encoded data removed]",
      "text/plain": [
       "<Figure size 432x288 with 1 Axes>"
      ]
     },
     "metadata": {
      "needs_background": "light"
     },
     "output_type": "display_data"
    }
   ],
   "source": [
    "# Generate a box plot that shows the distrubution of the tumor volume for each treatment group.\n",
    "drug_dict = {treatments[0]:capomulin_vol, treatments[1]:ramicane_vol, treatments[2]: infubinol_vol, treatments[3]: ceftamin_vol}\n",
    "\n",
    "# create a figure that displays a boxplot for each drug - label the outlier with a bright color\n",
    "fig, ax = plt.subplots()\n",
    "ax.boxplot(drug_dict.values(), 0, 'rD')\n",
    "ax.set_xticklabels(drug_dict.keys())\n",
    "ax.set_ylabel('Final Tumor Volume (mm3)')\n",
    "plt.show()"
   ]
  },
  {
   "cell_type": "markdown",
   "metadata": {},
   "source": [
    "## Line and Scatter Plots"
   ]
  },
  {
   "cell_type": "code",
   "execution_count": 18,
   "metadata": {},
   "outputs": [
    {
     "data": {
      "image/png": "[encoded data removed]",
      "text/plain": [
       "<Figure size 432x288 with 1 Axes>"
      ]
     },
     "metadata": {
      "needs_background": "light"
     },
     "output_type": "display_data"
    }
   ],
   "source": [
    "# Generate a line plot of tumor volume vs. time point for a single mouse treated with Capomulin\n",
    "# get data for single mouse\n",
    "mouseID = 'l509'\n",
    "single_mouse = clean_data_complete[clean_data_complete['Mouse ID'] == mouseID]\n",
    "\n",
    "# extract the timepoint and volume data\n",
    "x_values = single_mouse['Timepoint']\n",
    "y_values = single_mouse['Tumor Volume (mm3)']\n",
    "\n",
    "#plot\n",
    "plt.plot(x_values, y_values)\n",
    "plt.xlabel('Timepoint (days)')\n",
    "plt.ylabel('Tumor Volume(mm3)')\n",
    "plt.title('Capomulin treatment of mouse l509')\n",
    "plt.show()"
   ]
  },
  {
   "cell_type": "code",
   "execution_count": 19,
   "metadata": {},
   "outputs": [
    {
     "data": {
      "image/png": "[encoded data removed]",
      "text/plain": [
       "<Figure size 432x288 with 1 Axes>"
      ]
     },
     "metadata": {
      "needs_background": "light"
     },
     "output_type": "display_data"
    }
   ],
   "source": [
    "# Generate a scatter plot of mouse weight vs. the average observed tumor volume for the entire Capomulin regimen\n",
    "DrugID = 'Capomulin'\n",
    "# include only data for the drug in question\n",
    "single_drug = clean_data_complete[clean_data_complete['Drug Regimen'] == DrugID]\n",
    "# group by Mouse ID and take the mean of each\n",
    "mouse_group = single_drug.groupby([\"Mouse ID\"]).mean(numeric_only=True)\n",
    "\n",
    "# select only volume and weight\n",
    "avg_tumor = mouse_group[\"Tumor Volume (mm3)\"]\n",
    "avg_weight = mouse_group[\"Weight (g)\"] \n",
    "\n",
    "#plot\n",
    "plt.scatter(avg_weight, avg_tumor)\n",
    "plt.xlabel('Weight (g)')\n",
    "plt.ylabel('Average Tumor Volume (mm3)')\n",
    "plt.show()"
   ]
  },
  {
   "cell_type": "markdown",
   "metadata": {},
   "source": [
    "## Correlation and Regression"
   ]
  },
  {
   "cell_type": "code",
   "execution_count": 20,
   "metadata": {},
   "outputs": [
    {
     "name": "stdout",
     "output_type": "stream",
     "text": [
      "The correlation between both factors is 0.84\n"
     ]
    }
   ],
   "source": [
    "# Calculate the correlation coefficient and a linear regression model \n",
    "# for mouse weight and average observed tumor volume for the entire Capomulin regimen\n",
    "correlation = st.pearsonr(avg_weight, avg_tumor)\n",
    "print(f\"The correlation between both factors is {round(correlation[0],2)}\")"
   ]
  },
  {
   "cell_type": "code",
   "execution_count": 21,
   "metadata": {},
   "outputs": [],
   "source": [
    "# Perform a linear regression on year versus petrol-electric cars\n",
    "pe_slope, pe_int, pe_r, pe_p, pe_std_err = st.linregress(avg_weight, avg_tumor)\n",
    "# find range of where we can calculate the regression based on the max and min of the weight\n",
    "min_x = avg_weight.min()\n",
    "max_x = avg_weight.max()\n",
    "regres_values = np.linspace(min_x,max_x,100)\n",
    "# Create equation of line to calculate predicted tumor volume\n",
    "pe_fit = pe_slope * regres_values + pe_int"
   ]
  },
  {
   "cell_type": "code",
   "execution_count": 22,
   "metadata": {},
   "outputs": [
    {
     "data": {
      "image/png": "[encoded data removed]",
      "text/plain": [
       "<Figure size 432x288 with 1 Axes>"
      ]
     },
     "metadata": {
      "needs_background": "light"
     },
     "output_type": "display_data"
    }
   ],
   "source": [
    "# plot results\n",
    "plt.scatter(avg_weight, avg_tumor)\n",
    "plt.plot(regres_values, pe_fit, \"--\", color='r')\n",
    "plt.xlabel('Weight (g)')\n",
    "plt.ylabel('Average Tumor Volume (mm3)')\n",
    "plt.show()"
   ]
  }
 ],
 "metadata": {
  "anaconda-cloud": {},
  "kernelspec": {
   "display_name": "Python 3",
   "language": "python",
   "name": "python3"
  },
  "language_info": {
   "codemirror_mode": {
    "name": "ipython",
    "version": 3
   },
   "file_extension": ".py",
   "mimetype": "text/x-python",
   "name": "python",
   "nbconvert_exporter": "python",
   "pygments_lexer": "ipython3",
   "version": "3.8.18"
  }
 },
 "nbformat": 4,
 "nbformat_minor": 4
}
